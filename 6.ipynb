{
 "cells": [
  {
   "cell_type": "code",
   "execution_count": 1,
   "metadata": {},
   "outputs": [],
   "source": [
    "import numpy as np\n",
    "from sklearn import datasets\n",
    "from sklearn.model_selection import train_test_split"
   ]
  },
  {
   "cell_type": "code",
   "execution_count": 2,
   "metadata": {},
   "outputs": [],
   "source": [
    "iris=datasets.load_iris()\n",
    "x=iris.data\n",
    "y=iris.target"
   ]
  },
  {
   "cell_type": "code",
   "execution_count": 3,
   "metadata": {},
   "outputs": [],
   "source": [
    "x_train,x_test,y_train,y_test=train_test_split(x,y,train_size=0.2,random_state=42)"
   ]
  },
  {
   "cell_type": "code",
   "execution_count": 4,
   "metadata": {},
   "outputs": [],
   "source": [
    "class naivebayes:\n",
    "    def __init__(self,x,y):\n",
    "        n_samples,n_features=x.shape\n",
    "        self.classess=np.unique(y)\n",
    "        n_classes=len(self.classess)\n",
    "        self.means=np.zeros((n_classes,n_features))\n",
    "        self.vars=np.zeros((n_classes,n_features))\n",
    "        self.priors=np.zeros(n_classes)\n",
    "        for i in range(n_classes):\n",
    "            c=self.classess[i]\n",
    "            x_c=x[y==c]\n",
    "            self.means[i,:]=x_c.mean(axis=0)\n",
    "            self.vars[i:]=x_c.var(axis=0)\n",
    "            self.priors[i]=x_c.shape[0]/x.shape[0]\n",
    "    \n",
    "    def predictone(self,x):\n",
    "        posteriors=[]\n",
    "        for i in range(len(self.classess)):\n",
    "            c=self.classess[i]\n",
    "            prior=np.log(self.priors[i])\n",
    "            class_cond=np.sum(np.log(self.pdf(x,i)))\n",
    "            posterior=prior+class_cond\n",
    "            posteriors.append(posterior)\n",
    "        return self.classess[np.argmax(posteriors)]\n",
    "    def predict(self,X):\n",
    "        return [self.predictone(x) for x in X]\n",
    "    \n",
    "    def pdf(self,x,i):\n",
    "        mean=self.means[i]\n",
    "        var=self.vars[i]\n",
    "        numerator=np.exp(-(x-mean)**2/2*var)\n",
    "        denominator=2*np.pi*var\n",
    "        return numerator/denominator        \n",
    "        "
   ]
  },
  {
   "cell_type": "code",
   "execution_count": 5,
   "metadata": {},
   "outputs": [
    {
     "data": {
      "text/plain": [
       "((30, 4), (30,))"
      ]
     },
     "execution_count": 5,
     "metadata": {},
     "output_type": "execute_result"
    }
   ],
   "source": [
    "    \n",
    "nb = naivebayes(x_train, y_train)\n",
    "x_train.shape, y_train.shape"
   ]
  },
  {
   "cell_type": "code",
   "execution_count": 6,
   "metadata": {},
   "outputs": [
    {
     "data": {
      "text/plain": [
       "0.35833333333333334"
      ]
     },
     "execution_count": 6,
     "metadata": {},
     "output_type": "execute_result"
    }
   ],
   "source": [
    "\n",
    "y_pred = nb.predict(x_test)\n",
    "np.mean(y_pred == y_test)"
   ]
  }
 ],
 "metadata": {
  "kernelspec": {
   "display_name": "Python 3",
   "language": "python",
   "name": "python3"
  },
  "language_info": {
   "codemirror_mode": {
    "name": "ipython",
    "version": 3
   },
   "file_extension": ".py",
   "mimetype": "text/x-python",
   "name": "python",
   "nbconvert_exporter": "python",
   "pygments_lexer": "ipython3",
   "version": "3.11.0"
  }
 },
 "nbformat": 4,
 "nbformat_minor": 2
}
